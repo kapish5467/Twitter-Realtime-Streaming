{
 "cells": [
  {
   "cell_type": "code",
   "execution_count": 1,
   "metadata": {},
   "outputs": [],
   "source": [
    "import json \n",
    "from tweepy.streaming import StreamListener\n",
    "from tweepy import OAuthHandler\n",
    "from tweepy import Stream\n",
    "from textblob import TextBlob\n",
    "from elasticsearch import Elasticsearch\n",
    "import time"
   ]
  },
  {
   "cell_type": "code",
   "execution_count": 2,
   "metadata": {},
   "outputs": [],
   "source": [
    "access_token= '1169235812950495232-a1P3V6t6daKDvGB8SBMox4FpaIE2xy'\n",
    "access_secret='J716sRfPUCgK8DRPJPdbzAbnNhZSEbIeZWeLul0d11mg9'\n",
    "consumer_key='urKHmPV9Hw6rv788My5AYazqH'\n",
    "consumer_secret='09xUe9dV2kAmd8euX3nLc4zHmVm004R78zSkplm0uKA3Rb0vSv'\n",
    "#APIkey='PgmQNXgwvVHZfA472hcs7Zydb'\n",
    "#APisecretkey='F8Iebuqz5dNDFqilnqtAB0olHuzbofizAM1eOvvXojDjS3nObG'\n",
    "#Bearer token='AAAAAAAAAAAAAAAAAAAAAKTnMAEAAAAAA5HuFjHv6VC0f%2FF1GBlUYccLMTc%3DMqi5nU2wYhOF4zR9YBITLrbS31WQb1VRlMnHksZX2vZQmDoRXd'"
   ]
  },
  {
   "cell_type": "code",
   "execution_count": 4,
   "metadata": {},
   "outputs": [
    {
     "ename": "NameError",
     "evalue": "name 'time' is not defined",
     "output_type": "error",
     "traceback": [
      "\u001b[1;31m---------------------------------------------------------------------------\u001b[0m",
      "\u001b[1;31mNameError\u001b[0m                                 Traceback (most recent call last)",
      "\u001b[1;32m<ipython-input-4-1ce418fc3877>\u001b[0m in \u001b[0;36m<module>\u001b[1;34m\u001b[0m\n\u001b[0;32m     47\u001b[0m \u001b[1;32mif\u001b[0m \u001b[0m__name__\u001b[0m \u001b[1;33m==\u001b[0m \u001b[1;34m\"__main__\"\u001b[0m\u001b[1;33m:\u001b[0m\u001b[1;33m\u001b[0m\u001b[1;33m\u001b[0m\u001b[0m\n\u001b[0;32m     48\u001b[0m \u001b[1;33m\u001b[0m\u001b[0m\n\u001b[1;32m---> 49\u001b[1;33m     \u001b[0mlistener\u001b[0m \u001b[1;33m=\u001b[0m \u001b[0mTweetStreamListener\u001b[0m\u001b[1;33m(\u001b[0m\u001b[0mtime_limit\u001b[0m\u001b[1;33m=\u001b[0m\u001b[1;36m30\u001b[0m\u001b[1;33m)\u001b[0m\u001b[1;33m\u001b[0m\u001b[1;33m\u001b[0m\u001b[0m\n\u001b[0m\u001b[0;32m     50\u001b[0m     \u001b[0mauth\u001b[0m\u001b[1;33m=\u001b[0m \u001b[0mOAuthHandler\u001b[0m\u001b[1;33m(\u001b[0m\u001b[0mconsumer_key\u001b[0m\u001b[1;33m,\u001b[0m \u001b[0mconsumer_secret\u001b[0m\u001b[1;33m)\u001b[0m\u001b[1;33m\u001b[0m\u001b[1;33m\u001b[0m\u001b[0m\n\u001b[0;32m     51\u001b[0m     \u001b[0mauth\u001b[0m\u001b[1;33m.\u001b[0m\u001b[0mset_access_token\u001b[0m\u001b[1;33m(\u001b[0m\u001b[0maccess_token\u001b[0m\u001b[1;33m,\u001b[0m \u001b[0maccess_secret\u001b[0m\u001b[1;33m)\u001b[0m\u001b[1;33m\u001b[0m\u001b[1;33m\u001b[0m\u001b[0m\n",
      "\u001b[1;32m<ipython-input-4-1ce418fc3877>\u001b[0m in \u001b[0;36m__init__\u001b[1;34m(self, time_limit)\u001b[0m\n\u001b[0;32m      7\u001b[0m \u001b[1;32mclass\u001b[0m \u001b[0mTweetStreamListener\u001b[0m\u001b[1;33m(\u001b[0m\u001b[0mStreamListener\u001b[0m\u001b[1;33m)\u001b[0m\u001b[1;33m:\u001b[0m\u001b[1;33m\u001b[0m\u001b[1;33m\u001b[0m\u001b[0m\n\u001b[0;32m      8\u001b[0m     \u001b[1;32mdef\u001b[0m \u001b[0m__init__\u001b[0m\u001b[1;33m(\u001b[0m\u001b[0mself\u001b[0m\u001b[1;33m,\u001b[0m \u001b[0mtime_limit\u001b[0m\u001b[1;33m=\u001b[0m\u001b[1;36m60\u001b[0m\u001b[1;33m)\u001b[0m\u001b[1;33m:\u001b[0m\u001b[1;33m\u001b[0m\u001b[1;33m\u001b[0m\u001b[0m\n\u001b[1;32m----> 9\u001b[1;33m         \u001b[0mself\u001b[0m\u001b[1;33m.\u001b[0m\u001b[0mstart_time\u001b[0m \u001b[1;33m=\u001b[0m \u001b[0mtime\u001b[0m\u001b[1;33m.\u001b[0m\u001b[0mtime\u001b[0m\u001b[1;33m(\u001b[0m\u001b[1;33m)\u001b[0m\u001b[1;33m\u001b[0m\u001b[1;33m\u001b[0m\u001b[0m\n\u001b[0m\u001b[0;32m     10\u001b[0m         \u001b[0mself\u001b[0m\u001b[1;33m.\u001b[0m\u001b[0mlimit\u001b[0m \u001b[1;33m=\u001b[0m \u001b[0mtime_limit\u001b[0m\u001b[1;33m\u001b[0m\u001b[1;33m\u001b[0m\u001b[0m\n\u001b[0;32m     11\u001b[0m         \u001b[0msuper\u001b[0m\u001b[1;33m(\u001b[0m\u001b[0mTweetStreamListener\u001b[0m\u001b[1;33m,\u001b[0m \u001b[0mself\u001b[0m\u001b[1;33m)\u001b[0m\u001b[1;33m.\u001b[0m\u001b[0m__init__\u001b[0m\u001b[1;33m(\u001b[0m\u001b[1;33m)\u001b[0m\u001b[1;33m\u001b[0m\u001b[1;33m\u001b[0m\u001b[0m\n",
      "\u001b[1;31mNameError\u001b[0m: name 'time' is not defined"
     ]
    }
   ],
   "source": [
    "#import twitter keys and tokens \n",
    "#from config import *\n",
    "\n",
    "#new instance for ElasticSearch\n",
    "es= Elasticsearch()\n",
    "\n",
    "class TweetStreamListener(StreamListener):\n",
    "    def __init__(self, time_limit=60):\n",
    "        self.start_time = time.time()\n",
    "        self.limit = time_limit\n",
    "        super(TweetStreamListener, self).__init__()\n",
    "    \n",
    "    #when we are able to listen to data\n",
    "    def on_data(self,data):\n",
    "        if (time.time() - self.start_time) < self.limit:\n",
    "            dict_data=json.loads(data)\n",
    "            tweet= TextBlob(dict_data[\"text\"])#text is a field in twitter data being listened.\n",
    "\n",
    "            print(tweet.sentiment.polarity)\n",
    "\n",
    "            if(tweet.sentiment.polarity<0):\n",
    "                sentiment=\"negative\"\n",
    "            elif(tweet.sentiment.polarity==0):\n",
    "                sentiment=\"neutral\"\n",
    "            else:\n",
    "                sentiment=\"positive\"\n",
    "\n",
    "            print(sentiment)\n",
    "\n",
    "            es.index(index=\"sentiment\",\n",
    "                    doc_type=\"test-type\",\n",
    "                    body={\"author\": dict_data[\"user\"][\"screen_name\"],\n",
    "                         \"date\": dict_data[\"created_at\"],\n",
    "                         \"message\": dict_data[\"text\"],\n",
    "                         \"polarity\": tweet.sentiment.polarity,\n",
    "                         \"subjectivity\": tweet.sentiment.subjectivity,\n",
    "                         \"sentiment\": sentiment})\n",
    "            return True\n",
    "\n",
    "        else:\n",
    "            return False\n",
    "    \n",
    "    \n",
    "    def on_error(self,status):\n",
    "        print(status)\n",
    "\n",
    "if __name__ == \"__main__\":\n",
    "\n",
    "    listener = TweetStreamListener(time_limit=30)\n",
    "    auth= OAuthHandler(consumer_key, consumer_secret)\n",
    "    auth.set_access_token(access_token, access_secret)\n",
    "    runtime =60\n",
    "    stream = Stream(auth,listener)\n",
    "\n",
    "    stream.filter(track=['biden'])\n",
    "    \n",
    "\n",
    "\n",
    "    "
   ]
  },
  {
   "cell_type": "code",
   "execution_count": null,
   "metadata": {},
   "outputs": [],
   "source": [
    "es = Elasticsearch(['http://localhost:9200/'], verify_certs=True)\n",
    "\n",
    "if not es.ping():\n",
    "    raise ValueError(\"Connection failed\")"
   ]
  },
  {
   "cell_type": "code",
   "execution_count": null,
   "metadata": {},
   "outputs": [],
   "source": []
  }
 ],
 "metadata": {
  "kernelspec": {
   "display_name": "Python 3",
   "language": "python",
   "name": "python3"
  },
  "language_info": {
   "codemirror_mode": {
    "name": "ipython",
    "version": 3
   },
   "file_extension": ".py",
   "mimetype": "text/x-python",
   "name": "python",
   "nbconvert_exporter": "python",
   "pygments_lexer": "ipython3",
   "version": "3.8.3"
  }
 },
 "nbformat": 4,
 "nbformat_minor": 4
}

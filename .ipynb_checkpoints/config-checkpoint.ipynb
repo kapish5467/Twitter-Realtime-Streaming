{
 "cells": [
  {
   "cell_type": "code",
   "execution_count": 1,
   "metadata": {},
   "outputs": [],
   "source": [
    "class Oath:\n",
    "    access_token= '1169235812950495232-a1P3V6t6daKDvGB8SBMox4FpaIE2xy'\n",
    "    access_secret='J716sRfPUCgK8DRPJPdbzAbnNhZSEbIeZWeLul0d11mg9'\n",
    "    consumer_key='urKHmPV9Hw6rv788My5AYazqH'\n",
    "    consumer_secret='09xUe9dV2kAmd8euX3nLc4zHmVm004R78zSkplm0uKA3Rb0vSv'\n",
    "    #APIkey='PgmQNXgwvVHZfA472hcs7Zydb'\n",
    "    #APisecretkey='F8Iebuqz5dNDFqilnqtAB0olHuzbofizAM1eOvvXojDjS3nObG'\n",
    "    #Bearer token='AAAAAAAAAAAAAAAAAAAAAKTnMAEAAAAAA5HuFjHv6VC0f%2FF1GBlUYccLMTc%3DMqi5nU2wYhOF4zR9YBITLrbS31WQb1VRlMnHksZX2vZQmDoRXd'"
   ]
  },
  {
   "cell_type": "code",
   "execution_count": null,
   "metadata": {},
   "outputs": [],
   "source": []
  }
 ],
 "metadata": {
  "kernelspec": {
   "display_name": "Python 3",
   "language": "python",
   "name": "python3"
  },
  "language_info": {
   "codemirror_mode": {
    "name": "ipython",
    "version": 3
   },
   "file_extension": ".py",
   "mimetype": "text/x-python",
   "name": "python",
   "nbconvert_exporter": "python",
   "pygments_lexer": "ipython3",
   "version": "3.8.3"
  }
 },
 "nbformat": 4,
 "nbformat_minor": 4
}
